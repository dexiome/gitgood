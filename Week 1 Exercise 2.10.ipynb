{
 "cells": [
  {
   "cell_type": "markdown",
   "id": "de036615",
   "metadata": {},
   "source": [
    "# Exercise 2.10: The semi-empirical mass formula\n",
    "\n",
    "    B = approximate nuclear binding energy of an atomic nucleus\n",
    "    Z = atomic number\n",
    "    A = mass number\n",
    "    \n",
    "    where, in units of millions of electron volts (MeV), the constants are:\n",
    "        a1 = 15.67\n",
    "        a2 = 17.23\n",
    "        a3 = 0.75\n",
    "        a4 = 93.2\n",
    "        a5 = 0 if A is odd, 12.0 if A and Z are both even, -12.0 if\n",
    "        A is even and Z is odd"
   ]
  },
  {
   "cell_type": "markdown",
   "id": "ef715c33",
   "metadata": {},
   "source": [
    "a) Write a program that takes as its input the values of A and Z, and prints out\n",
    "the binding energy for the corresponding atom. Use your program to find the\n",
    "binding energy of an atom with A = 58 and Z = 28. (Hint: The correct answer is\n",
    "around 490 MeV.)"
   ]
  },
  {
   "cell_type": "code",
   "execution_count": 32,
   "id": "e4ab9a60",
   "metadata": {},
   "outputs": [
    {
     "name": "stdout",
     "output_type": "stream",
     "text": [
      "The binding energy of the atom is 493.93560680136824 MeV\n"
     ]
    }
   ],
   "source": [
    "# Declare the other variables to be used\n",
    "a1 = 15.67\n",
    "a2 = 17.23\n",
    "a3 = 0.75\n",
    "a4 = 93.2\n",
    "\n",
    "# Define the function\n",
    "def semi_empirical_mass(A,Z):\n",
    "    # Declare the conditions for a5 since they depend on the inputs\n",
    "    if (A%2 != 0):\n",
    "        a5 = 0\n",
    "    elif (A%2 == 0) & (Z%2 == 0):\n",
    "        a5 = 12.0\n",
    "    elif (A%2 == 0) & (Z%2 != 0):\n",
    "        a5 = -12.0\n",
    "        \n",
    "    # Semi-empirical mass formula\n",
    "    B = (a1*A) - (a2*pow(A,(2/3))) - (a3*(pow(Z,2)/pow(A,(1/3)))) - a4*(pow(A-(2*Z),2)/A) + a5/pow(A,(1/2))\n",
    "    return B\n",
    "\n",
    "# Input the values of A and Z\n",
    "print (\"The binding energy of the atom is\", semi_empirical_mass(58,28),\"MeV\")"
   ]
  },
  {
   "cell_type": "markdown",
   "id": "e4e939e8",
   "metadata": {},
   "source": [
    "b) Modify your program to print out not the total binding energy B, but the binding\n",
    "energy per nucleon, which is B/A."
   ]
  },
  {
   "cell_type": "code",
   "execution_count": 33,
   "id": "7b377a55",
   "metadata": {},
   "outputs": [
    {
     "name": "stdout",
     "output_type": "stream",
     "text": [
      "The binding energy of the atom is 8.516131151747729 MeV\n"
     ]
    }
   ],
   "source": [
    "# Declare the other variables to be used\n",
    "a1 = 15.67\n",
    "a2 = 17.23\n",
    "a3 = 0.75\n",
    "a4 = 93.2\n",
    "\n",
    "# Define the function\n",
    "def semi_empirical_mass(A,Z):\n",
    "    # Declare the conditions for a5 since they depend on the inputs\n",
    "    if (A%2 != 0):\n",
    "        a5 = 0\n",
    "    elif (A%2 == 0) & (Z%2 == 0):\n",
    "        a5 = 12.0\n",
    "    elif (A%2 == 0) & (Z%2 != 0):\n",
    "        a5 = -12.0\n",
    "        \n",
    "    # Semi-empirical mass formula\n",
    "    B = (a1*A) - (a2*pow(A,(2/3))) - (a3*(pow(Z,2)/pow(A,(1/3)))) - a4*(pow(A-(2*Z),2)/A) + a5/pow(A,(1/2))\n",
    "    return B/A\n",
    "\n",
    "# Input the values of A and Z\n",
    "print (\"The binding energy per nucleon is\", semi_empirical_mass(58,28),\"MeV\")"
   ]
  },
  {
   "cell_type": "markdown",
   "id": "83b6e3a6",
   "metadata": {},
   "source": [
    "c) Now modify your program so that it takes as input just a single value of the\n",
    "atomic number Z and then goes through all values of A from A = Z to A = 3Z,\n",
    "to find the one that has the largest binding energy per nucleon. This is the most\n",
    "stable nucleus with the given atomic number. Have your program print out the\n",
    "value of A for this most stable nucleus and the value of the binding energy per\n",
    "nucleon."
   ]
  },
  {
   "cell_type": "code",
   "execution_count": 11,
   "id": "e1a5a959",
   "metadata": {},
   "outputs": [
    {
     "name": "stdout",
     "output_type": "stream",
     "text": [
      "The binding energy per nucleon is 8.45059603742369 MeV with an A value of 56\n"
     ]
    }
   ],
   "source": [
    "# Declare the other variables to be used\n",
    "a1 = 15.67\n",
    "a2 = 17.23\n",
    "a3 = 0.75\n",
    "a4 = 93.2\n",
    "\n",
    "# Define the function\n",
    "def semi_empirical_mass(Z):\n",
    "    \n",
    "    binding_energy_per_nucleon_list = [] # this will hold the values of B/A\n",
    "\n",
    "    # Set up a for loop that will go through all values of A\n",
    "    for A in range(1,4):\n",
    "        A = A*Z \n",
    "        \n",
    "        # Declare the conditions for a5 since they depend on the input/s\n",
    "        if (A%2 != 0):\n",
    "            a5 = 0\n",
    "        elif (A%2 == 0) & (Z%2 == 0):\n",
    "            a5 = 12.0\n",
    "        elif (A%2 == 0) & (Z%2 != 0):\n",
    "            a5 = -12.0\n",
    "            \n",
    "        # Semi-empirical mass formula\n",
    "        B = (a1*A) - (a2*pow(A,(2/3))) - (a3*(pow(Z,2)/pow(A,(1/3)))) - a4*(pow(A-(2*Z),2)/A) + a5/pow(A,(1/2))\n",
    "        \n",
    "        #binding energy per nucleon formula\n",
    "        binding_energy_per_nucleon = B/A\n",
    "\n",
    "        # Store the binding energy per nucleon and A values in their lists\n",
    "        binding_energy_per_nucleon_list.append(binding_energy_per_nucleon)\n",
    "        \n",
    "        \n",
    "    # Set up a for loop that will go through all elements of binding_energy_per_nucleon_list\n",
    "    # The for loop will only need to go through 0 to 1\n",
    "    for A in range(2): \n",
    "        # Compare first element of the list to the second one and so on\n",
    "        if binding_energy_per_nucleon_list[A] < binding_energy_per_nucleon_list[(A+1)]:\n",
    "            A_value = (A+2)*Z\n",
    "        else:\n",
    "            A_value = (A+1)*Z\n",
    "\n",
    "    return print(\"The binding energy per nucleon is\", max(binding_energy_per_nucleon_list), \"MeV with an A value of\", A_value)\n",
    "\n",
    "# Input the value of Z\n",
    "semi_empirical_mass(28)"
   ]
  },
  {
   "cell_type": "markdown",
   "id": "4dfd8b5d",
   "metadata": {},
   "source": [
    "Modify your program again so that, instead of taking Z as input, it runs through\n",
    "all values of Z from 1 to 100 and prints out the most stable value of A for each\n",
    "one. At what value of Z does the maximum binding energy per nucleon occur?\n",
    "(The true answer, in real life, is Z = 28, which is nickel. You should find that the\n",
    "semi-empirical mass formula gets the answer roughly right, but not exactly.)"
   ]
  },
  {
   "cell_type": "code",
   "execution_count": 12,
   "id": "8537822f",
   "metadata": {},
   "outputs": [],
   "source": [
    "largest_binding_energy_per_nucleon_list = [] # this will hold the largest values of B/A\n",
    "A_value_list = [] # this will hold the values of A\n",
    "\n",
    "# Set up a for loop that will go through all values of A\n",
    "for Z in range(1,101):\n",
    "    binding_energy_per_nucleon_list = [] # this will hold the values of B/A\n",
    "    for A in range(1,4):\n",
    "        A = A*Z \n",
    "\n",
    "        # Declare the conditions for a5 since they depend on the input/s\n",
    "        if (A%2 != 0):\n",
    "            a5 = 0\n",
    "        elif (A%2 == 0) & (Z%2 == 0):\n",
    "            a5 = 12.0\n",
    "        elif (A%2 == 0) & (Z%2 != 0):\n",
    "            a5 = -12.0\n",
    "\n",
    "        # Semi-empirical mass formula\n",
    "        B = (a1*A) - (a2*pow(A,(2/3))) - (a3*(pow(Z,2)/pow(A,(1/3)))) - a4*(pow(A-(2*Z),2)/A) + a5/pow(A,(1/2))\n",
    "\n",
    "        #binding energy per nucleon formula\n",
    "        binding_energy_per_nucleon = B/A\n",
    "\n",
    "        # Store the binding energy per nucleon and A values in their lists\n",
    "        binding_energy_per_nucleon_list.append(binding_energy_per_nucleon)\n",
    "        \n",
    "        \n",
    "    # Set up a for loop that will go through all elements of binding_energy_per_nucleon_list\n",
    "    # The for loop will only need to go through 0 to 1\n",
    "    for A in range(2): \n",
    "        # Compare first element of the list to the second one and so on\n",
    "        if binding_energy_per_nucleon_list[A] < binding_energy_per_nucleon_list[(A+1)]:\n",
    "            A_value = (A+2)*Z\n",
    "        else:\n",
    "            A_value = (A+1)*Z\n",
    "    largest_binding_energy_per_nucleon_list.append(max(binding_energy_per_nucleon_list))\n",
    "    A_value_list.append(A_value)\n"
   ]
  },
  {
   "cell_type": "code",
   "execution_count": 13,
   "id": "e97a99f0",
   "metadata": {},
   "outputs": [
    {
     "name": "stdout",
     "output_type": "stream",
     "text": [
      "[-2.5457384470693594, 5.843309761445089, 4.752357643495461, 6.835330085889912, 6.42277121416258, 7.450001408063262, 7.202816025510254, 7.829219179670832, 7.650586170465855, 8.075065994502456, 7.932473778029891, 8.238691826796318, 8.11787158272275, 8.347948969539557, 8.241550363945423, 8.419299763471765, 8.323104248615687, 8.463130252869773, 8.374519309699306, 8.486338298302108, 8.403586642182507, 8.493697076181457, 8.41561319515262, 8.488621746948846, 8.414350805552296, 8.473624344494805, 8.402533423126549, 8.45059603742369, 8.382203943178112, 8.420989010785252, 8.35492154870559, 8.3859375, 8.321897958137649, 8.346340599814717, 8.284089680725675, 8.302920305775183, 8.242262120696843, 8.256263068008789, 8.197035135901073, 8.206850104464255, 8.148916064586944, 8.155079887024822, 8.098324091979745, 8.101285073352487, 8.045608511770675, 8.045745429786713, 7.99106260635485, 7.988697815912044, 7.93493433205211, 7.930343985265283, 7.877434640287886, 7.8708567421647055, 7.818744026335799, 7.810384846641684, 7.759017733052359, 7.749056955736303, 7.698389922609148, 7.686984815692168, 7.6369770482877435, 7.62426586648738, 7.574880600365603, 7.560985381430198, 7.512189357981015, 7.497218236010921, 7.44898124791085, 7.433030378941803, 7.385324888210579, 7.368480062323698, 7.321280877427763, 7.303618875736675, 7.256902877050122, 7.238492619755466, 7.1922385248824705, 7.173142047215644, 7.127330209372769, 7.107603494976527, 7.062215728952453, 7.041909424556819, 6.996928855801854, 6.976088886573541, 6.93149981978864, 6.910167921180699, 6.865955725425976, 6.844169904522062, 6.80032091238497, 6.7781158494605025, 6.734617268242756, 6.712024667432379, 6.668864500654028, 6.645913397128415, 6.6030803749235245, 6.579797404767464, 6.537280921971914, 6.513690559963598, 6.4714806208814215, 6.447605390556974, 6.405692559545134, 6.3815532192583575, 6.3399285763974795, 6.315544284525557]\n"
     ]
    }
   ],
   "source": [
    "print(largest_binding_energy_per_nucleon_list)"
   ]
  },
  {
   "cell_type": "code",
   "execution_count": 14,
   "id": "23f8a464",
   "metadata": {},
   "outputs": [
    {
     "name": "stdout",
     "output_type": "stream",
     "text": [
      "[2, 4, 6, 8, 10, 12, 14, 16, 18, 20, 22, 24, 26, 28, 30, 32, 34, 36, 38, 40, 42, 44, 46, 48, 50, 52, 54, 56, 58, 60, 62, 64, 66, 68, 70, 72, 74, 76, 78, 80, 82, 84, 86, 88, 90, 92, 94, 96, 98, 100, 102, 104, 106, 108, 110, 112, 114, 116, 118, 120, 122, 124, 126, 128, 130, 132, 134, 136, 138, 140, 142, 144, 146, 148, 150, 152, 154, 156, 158, 160, 162, 164, 166, 168, 170, 172, 174, 176, 178, 180, 182, 184, 186, 188, 190, 192, 194, 196, 198, 200]\n"
     ]
    }
   ],
   "source": [
    "print(A_value_list)"
   ]
  },
  {
   "cell_type": "code",
   "execution_count": null,
   "id": "41a220b6",
   "metadata": {},
   "outputs": [],
   "source": []
  },
  {
   "cell_type": "code",
   "execution_count": null,
   "id": "625dce77",
   "metadata": {},
   "outputs": [],
   "source": []
  }
 ],
 "metadata": {
  "kernelspec": {
   "display_name": "Python 3",
   "language": "python",
   "name": "python3"
  },
  "language_info": {
   "codemirror_mode": {
    "name": "ipython",
    "version": 3
   },
   "file_extension": ".py",
   "mimetype": "text/x-python",
   "name": "python",
   "nbconvert_exporter": "python",
   "pygments_lexer": "ipython3",
   "version": "3.8.8"
  }
 },
 "nbformat": 4,
 "nbformat_minor": 5
}
