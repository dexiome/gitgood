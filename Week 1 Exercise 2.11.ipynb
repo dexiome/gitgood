{
 "cells": [
  {
   "cell_type": "markdown",
   "id": "517a56cf",
   "metadata": {},
   "source": [
    "## Exercise 2.11: Binomial coefficients\n",
    "a) Using this form for the binomial coefficient, write a Python user-defined function\n",
    "binomial(n,k) that calculates the binomial coefficient for given n and k. Make\n",
    "sure your function returns the answer in the form of an integer (not a float) and\n",
    "gives the correct value of 1 for the case where k = 0."
   ]
  },
  {
   "cell_type": "code",
   "execution_count": 1,
   "id": "84b2ea80",
   "metadata": {},
   "outputs": [
    {
     "data": {
      "text/plain": [
       "6"
      ]
     },
     "execution_count": 1,
     "metadata": {},
     "output_type": "execute_result"
    }
   ],
   "source": [
    "def binomial(n,k):\n",
    "    if 0 <= k <= n:\n",
    "        binomial_coefficient_numerator = 1 # this will hold the products of the numerator part\n",
    "        binomial_coefficient_denominator = 1 # this will hold the products of the denominator part\n",
    "        a=k # this will be used in the for loop of the denominator\n",
    "\n",
    "        # Create a for loop for the numerator part since 0 is included\n",
    "        for k in range(k):\n",
    "            binomial_coefficient_numerator *= (n-k)\n",
    "\n",
    "        # Create a for loop for the denominator part since 0 is not included ; use a=k\n",
    "        for a in range(1,a+1):\n",
    "            binomial_coefficient_denominator *= a\n",
    "\n",
    "        # Apply the binomial coefficient formula\n",
    "        binomial_coefficient = binomial_coefficient_numerator//binomial_coefficient_denominator\n",
    "        return binomial_coefficient\n",
    "    else:\n",
    "        return 0\n",
    "\n",
    "binomial(4,2)"
   ]
  },
  {
   "cell_type": "code",
   "execution_count": 3,
   "id": "4d3fba91",
   "metadata": {},
   "outputs": [
    {
     "name": "stdout",
     "output_type": "stream",
     "text": [
      "[6]\n",
      "[6, 4]\n",
      "[6, 4, 1]\n",
      "[6, 4, 1, 1]\n"
     ]
    }
   ],
   "source": [
    "def binomial(n,k):\n",
    "    binomial_coefficient_list=[] # this will hold the list of binomial coefficients\n",
    "    for i in range(n): \n",
    "        if 0 <= k <= n:\n",
    "            binomial_coefficient_numerator = 1 # this will hold the products of the numerator part\n",
    "            binomial_coefficient_denominator = 1 # this will hold the products of the denominator part\n",
    "            a=k # this will be used in the for loop of the denominator\n",
    "\n",
    "            # Create a for loop for the numerator part since 0 is included\n",
    "            for k in range(k):\n",
    "                binomial_coefficient_numerator *= (n-k)\n",
    "\n",
    "            # Create a for loop for the denominator part since 0 is not included ; use a=k\n",
    "            for a in range(1,a+1):\n",
    "                binomial_coefficient_denominator *= a\n",
    "\n",
    "            # Apply the binomial coefficient formula\n",
    "            binomial_coefficient = binomial_coefficient_numerator//binomial_coefficient_denominator\n",
    "            binomial_coefficient_list.append(binomial_coefficient)\n",
    "        else:\n",
    "            return 0\n",
    "        print(binomial_coefficient_list)\n",
    "\n",
    "binomial(4,2)"
   ]
  },
  {
   "cell_type": "markdown",
   "id": "90694631",
   "metadata": {},
   "source": [
    "    b) Using your function write a program to print out the first 20 lines of “Pascal’s\n",
    "    triangle.”  The nth line of Pascal’s triangle contains n + 1 numbers, which are the\n",
    "    coefficients (n,0), (n,1), and so on up to (n,n). Thus the first few lines are:\n",
    "          1 1\n",
    "          1 2 1\n",
    "          1 3 3 1\n",
    "          1 4 6 4 1"
   ]
  },
  {
   "cell_type": "code",
   "execution_count": 5,
   "id": "60739bf1",
   "metadata": {},
   "outputs": [
    {
     "name": "stdout",
     "output_type": "stream",
     "text": [
      "[4]\n",
      "[4, 6]\n",
      "[4, 6, 4]\n",
      "[4, 6, 4, 1]\n"
     ]
    }
   ],
   "source": [
    "def binomial(n,k):\n",
    "    binomial_coefficient_list=[] # this will hold the list of binomial coefficients\n",
    "    for i in range(n): \n",
    "        if 0 <= k <= n:\n",
    "            binomial_coefficient_numerator = 1 # this will hold the products of the numerator part\n",
    "            binomial_coefficient_denominator = 1 # this will hold the products of the denominator part\n",
    "            a=k # this will be used in the for loop of the denominator\n",
    "\n",
    "            # Create a for loop for the numerator part since 0 is included\n",
    "            for k in range(k):\n",
    "                binomial_coefficient_numerator *= (n-k)\n",
    "\n",
    "            # Create a for loop for the denominator part since 0 is not included ; use a=k\n",
    "            for a in range(1,a+1):\n",
    "                binomial_coefficient_denominator *= a\n",
    "\n",
    "            # Apply the binomial coefficient formula\n",
    "            binomial_coefficient = binomial_coefficient_numerator//binomial_coefficient_denominator\n",
    "            binomial_coefficient_list.append(binomial_coefficient)\n",
    "        else:\n",
    "            return 0\n",
    "        print(binomial_coefficient_list)\n",
    "\n",
    "binomial(4,3)"
   ]
  },
  {
   "cell_type": "code",
   "execution_count": null,
   "id": "199c8b18",
   "metadata": {},
   "outputs": [],
   "source": []
  },
  {
   "cell_type": "code",
   "execution_count": 34,
   "id": "68e6b58c",
   "metadata": {},
   "outputs": [
    {
     "name": "stdout",
     "output_type": "stream",
     "text": [
      "     * \n",
      "    * * \n",
      "   * * * \n",
      "  * * * * \n",
      " * * * * * \n"
     ]
    }
   ],
   "source": [
    "i=1\n",
    "j=5\n",
    "while i<=5:\n",
    " print((j*' ')+i*'* ')\n",
    " j=j-1\n",
    " i=i+1"
   ]
  },
  {
   "cell_type": "code",
   "execution_count": 3,
   "id": "9f9b2166",
   "metadata": {},
   "outputs": [
    {
     "name": "stdout",
     "output_type": "stream",
     "text": [
      " * * * * * \n",
      "  * * * * \n",
      "   * * * \n",
      "    * * \n",
      "     * \n"
     ]
    }
   ],
   "source": [
    "i=1\n",
    "j=5\n",
    "while i<=5:\n",
    " print((i*' ')+j*'* ')\n",
    " j=j-1\n",
    " i=i+1"
   ]
  },
  {
   "cell_type": "code",
   "execution_count": 36,
   "id": "45e3f489",
   "metadata": {},
   "outputs": [
    {
     "data": {
      "text/plain": [
       "'* '"
      ]
     },
     "execution_count": 36,
     "metadata": {},
     "output_type": "execute_result"
    }
   ],
   "source": [
    "i=1\n",
    "i*'* '"
   ]
  },
  {
   "cell_type": "code",
   "execution_count": 2,
   "id": "e88828a9",
   "metadata": {},
   "outputs": [
    {
     "name": "stdout",
     "output_type": "stream",
     "text": [
      "1\n",
      "2\n",
      "3\n",
      "4\n",
      "5\n"
     ]
    }
   ],
   "source": [
    "n=5\n",
    "i = 1\n",
    "while i <= n:\n",
    "    print(i)\n",
    "    i = i + 1"
   ]
  },
  {
   "cell_type": "code",
   "execution_count": 8,
   "id": "6137a632",
   "metadata": {},
   "outputs": [
    {
     "name": "stdout",
     "output_type": "stream",
     "text": [
      "0\n"
     ]
    }
   ],
   "source": [
    "def binomial(n, k):\n",
    "    if 0 <= k <= n:\n",
    "        a= 1\n",
    "        b=1\n",
    "        for t in range(1, min(k, n - k) + 1):\n",
    "            a *= n\n",
    "            b *= t\n",
    "            n -= 1\n",
    "        return a // b\n",
    "    else:\n",
    "        return 0\n",
    "print(binomial(0,2))"
   ]
  },
  {
   "cell_type": "code",
   "execution_count": 11,
   "id": "3a335f4a",
   "metadata": {},
   "outputs": [
    {
     "data": {
      "text/plain": [
       "2"
      ]
     },
     "execution_count": 11,
     "metadata": {},
     "output_type": "execute_result"
    }
   ],
   "source": [
    "n = 4\n",
    "k = 2\n",
    "min(k, n - k)"
   ]
  },
  {
   "cell_type": "code",
   "execution_count": 16,
   "id": "2261a497",
   "metadata": {},
   "outputs": [
    {
     "name": "stdout",
     "output_type": "stream",
     "text": [
      "The binomial coefficient is: 4.0\n"
     ]
    }
   ],
   "source": [
    "def factorial(z):\n",
    "    if z==1:\n",
    "        return 1\n",
    "    else:\n",
    "        return z* factorial(z-1)\n",
    "def binomial_coefficient(n,k):\n",
    "    a= (factorial(n)) / (factorial(k) * factorial(n-k))\n",
    "    return a\n",
    "print(\"The binomial coefficient is:\",binomial_coefficient(4,3))"
   ]
  },
  {
   "cell_type": "code",
   "execution_count": null,
   "id": "39368bb6",
   "metadata": {},
   "outputs": [],
   "source": []
  }
 ],
 "metadata": {
  "kernelspec": {
   "display_name": "Python 3 (ipykernel)",
   "language": "python",
   "name": "python3"
  },
  "language_info": {
   "codemirror_mode": {
    "name": "ipython",
    "version": 3
   },
   "file_extension": ".py",
   "mimetype": "text/x-python",
   "name": "python",
   "nbconvert_exporter": "python",
   "pygments_lexer": "ipython3",
   "version": "3.9.12"
  }
 },
 "nbformat": 4,
 "nbformat_minor": 5
}
